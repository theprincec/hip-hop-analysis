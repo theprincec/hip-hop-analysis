{
 "cells": [
  {
   "cell_type": "markdown",
   "metadata": {},
   "source": [
    "# Hip Hop Analysis Overview\n",
    "Using a hip hip dataset to learn the fundamentals of Jupyter and data analyst concepts:\n",
    "- Data Cleaning\n",
    "- Data Visualization\n",
    "- Exploratory Data Analysis"
   ]
  },
  {
   "cell_type": "code",
   "execution_count": null,
   "metadata": {},
   "outputs": [],
   "source": []
  },
  {
   "cell_type": "markdown",
   "metadata": {},
   "source": [
    "# Environment Setup\n",
    "## Loading Dependencies"
   ]
  },
  {
   "cell_type": "code",
   "execution_count": 1,
   "metadata": {
    "ExecuteTime": {
     "end_time": "2020-06-13T14:55:59.781633Z",
     "start_time": "2020-06-13T14:55:57.775653Z"
    }
   },
   "outputs": [
    {
     "ename": "ModuleNotFoundError",
     "evalue": "No module named 'pandas'",
     "output_type": "error",
     "traceback": [
      "\u001b[0;31m---------------------------------------------------------------------------\u001b[0m",
      "\u001b[0;31mModuleNotFoundError\u001b[0m                       Traceback (most recent call last)",
      "\u001b[0;32m<ipython-input-1-7dd3504c366f>\u001b[0m in \u001b[0;36m<module>\u001b[0;34m\u001b[0m\n\u001b[0;32m----> 1\u001b[0;31m \u001b[0;32mimport\u001b[0m \u001b[0mpandas\u001b[0m \u001b[0;32mas\u001b[0m \u001b[0mpd\u001b[0m\u001b[0;34m\u001b[0m\u001b[0m\n\u001b[0m",
      "\u001b[0;31mModuleNotFoundError\u001b[0m: No module named 'pandas'"
     ]
    }
   ],
   "source": [
    "import pandas as pd"
   ]
  },
  {
   "cell_type": "markdown",
   "metadata": {},
   "source": [
    "## Importing Our Hip Hop Dataset\n",
    "The dataset was found on datpiff.com, but we've placed it in our directory structure and will import the data from there!"
   ]
  },
  {
   "cell_type": "code",
   "execution_count": null,
   "metadata": {
    "ExecuteTime": {
     "end_time": "2020-06-13T14:55:59.876696Z",
     "start_time": "2020-06-13T14:55:59.829664Z"
    },
    "scrolled": false
   },
   "outputs": [],
   "source": [
    "file_path = './hip_hop_mixtapes - Listens.csv' # Defining the file path\n",
    "hip_hop_data = pd.read_csv(file_path) # Reading in our .csv with pandas\n",
    "hip_hop = hip_hop_data.copy()"
   ]
  },
  {
   "cell_type": "code",
   "execution_count": null,
   "metadata": {
    "ExecuteTime": {
     "end_time": "2020-06-13T14:56:00.177058Z",
     "start_time": "2020-06-13T14:55:59.896295Z"
    }
   },
   "outputs": [],
   "source": [
    "# Quick exploration of data\n",
    "display(hip_hop_data.shape)\n",
    "display(hip_hop_data.columns)\n",
    "display(hip_hop_data.head())\n",
    "display(hip_hop_data.tail())\n",
    "display(hip_hop_data.info(null_counts=True))"
   ]
  },
  {
   "cell_type": "markdown",
   "metadata": {},
   "source": [
    "# Data Cleaning\n",
    "As we can see from our quick exploration above, we can note that we'll need to clean the following:\n",
    "- Column Headers\n",
    "- Remove commas from listens\n",
    "- Convert types\n",
    "    - listens\n",
    "    - Number of Songs\n",
    "    \n",
    "## Column Headers\n",
    "Column headers are inconsistent formatting, so we'll convert them all to snake casing."
   ]
  },
  {
   "cell_type": "code",
   "execution_count": null,
   "metadata": {
    "ExecuteTime": {
     "end_time": "2020-06-13T14:56:00.200894Z",
     "start_time": "2020-06-13T14:56:00.190826Z"
    }
   },
   "outputs": [],
   "source": [
    "hip_hop.columns"
   ]
  },
  {
   "cell_type": "code",
   "execution_count": null,
   "metadata": {
    "ExecuteTime": {
     "end_time": "2020-06-13T14:56:00.234448Z",
     "start_time": "2020-06-13T14:56:00.205301Z"
    },
    "hide_input": false
   },
   "outputs": [],
   "source": [
    "col_headers = list(hip_hop.columns)\n",
    "formatted_col_headers = []\n",
    "\n",
    "for col in col_headers:\n",
    "    col = col.replace(\" \", \"_\")\n",
    "    formatted_col_headers.append(col.lower())\n",
    "    \n",
    "formatted_col_headers"
   ]
  },
  {
   "cell_type": "code",
   "execution_count": null,
   "metadata": {
    "ExecuteTime": {
     "end_time": "2020-06-13T14:56:00.428207Z",
     "start_time": "2020-06-13T14:56:00.241621Z"
    },
    "scrolled": false
   },
   "outputs": [],
   "source": [
    "hip_hop.columns = formatted_col_headers\n",
    "hip_hop.columns\n",
    "hip_hop"
   ]
  },
  {
   "cell_type": "markdown",
   "metadata": {},
   "source": [
    "## Removing Delimiters\n",
    "We noticed that listens has commas and we want to remove these"
   ]
  },
  {
   "cell_type": "code",
   "execution_count": null,
   "metadata": {
    "ExecuteTime": {
     "end_time": "2020-06-13T14:56:00.533116Z",
     "start_time": "2020-06-13T14:56:00.434208Z"
    }
   },
   "outputs": [],
   "source": [
    "hip_hop.listens = hip_hop.listens.apply(lambda row: row.replace(',', ''))\n",
    "hip_hop"
   ]
  },
  {
   "cell_type": "markdown",
   "metadata": {},
   "source": [
    "## Convert Types\n",
    "We notice now that, listens is a string object. Since we'll eventually want to do some calculations, we'll need to convert this to a int."
   ]
  },
  {
   "cell_type": "code",
   "execution_count": null,
   "metadata": {
    "ExecuteTime": {
     "end_time": "2020-06-13T14:56:00.611606Z",
     "start_time": "2020-06-13T14:56:00.545506Z"
    }
   },
   "outputs": [],
   "source": [
    "hip_hop.info(null_counts=True, memory_usage='deep')"
   ]
  },
  {
   "cell_type": "code",
   "execution_count": null,
   "metadata": {
    "ExecuteTime": {
     "end_time": "2020-06-13T14:56:00.666094Z",
     "start_time": "2020-06-13T14:56:00.639163Z"
    }
   },
   "outputs": [],
   "source": [
    "hip_hop.listens = hip_hop.listens.astype('int32')\n",
    "hip_hop.number_of_songs = hip_hop.number_of_songs.astype('int32')"
   ]
  },
  {
   "cell_type": "code",
   "execution_count": null,
   "metadata": {
    "ExecuteTime": {
     "end_time": "2020-06-13T14:59:33.714660Z",
     "start_time": "2020-06-13T14:59:33.672610Z"
    }
   },
   "outputs": [],
   "source": [
    "hip_hop.info(null_counts=True, memory_usage='deep')"
   ]
  },
  {
   "cell_type": "code",
   "execution_count": null,
   "metadata": {
    "ExecuteTime": {
     "end_time": "2020-06-13T14:59:40.019624Z",
     "start_time": "2020-06-13T14:59:39.948605Z"
    }
   },
   "outputs": [],
   "source": [
    "hip_hop"
   ]
  },
  {
   "cell_type": "code",
   "execution_count": null,
   "metadata": {},
   "outputs": [],
   "source": [
    "missing_data = ['shortest_song_duration','longest_duation']\n",
    "\n",
    "for col in misssing_data:\n",
    "    hip_hop[col] = hip_hop[col].fillna('0:00')\n",
    "    "
   ]
  },
  {
   "cell_type": "code",
   "execution_count": null,
   "metadata": {},
   "outputs": [],
   "source": [
    "def convert_to_seconds(song_duration):\n",
    "    minutes,seconds = song_duration.split(':')\n",
    "    total_seconds = (minute*60) + seconds\n",
    "    return total_seconds\n",
    "    "
   ]
  },
  {
   "cell_type": "code",
   "execution_count": null,
   "metadata": {},
   "outputs": [],
   "source": [
    "#hip_hop['shortest_duration_secs'] = \n",
    "#stripped_song_length = hip_hop['shortest_song_duration'].str.strip(':')\n",
    "#for time in stripped_song_length:\n",
    "#   minute = int(time[0])\n",
    "#  seconds = int(time[2:])\n",
    "# total_seconds = (minute*60) + seconds\n",
    "#   hip_hop['shortest_song_duration']\n",
    "hip_hop['shortest_duration_seconds'] = hip_hop.shortest_song_duration.apply(convert_to_seconds)\n",
    "hip_hop['longest_duration_seconds'] = hip_hop.longest_duration.apply(convert_to_seconds)"
   ]
  },
  {
   "cell_type": "code",
   "execution_count": null,
   "metadata": {},
   "outputs": [],
   "source": []
  }
 ],
 "metadata": {
  "kernelspec": {
   "display_name": "Python 3",
   "language": "python",
   "name": "python3"
  },
  "language_info": {
   "codemirror_mode": {
    "name": "ipython",
    "version": 3
   },
   "file_extension": ".py",
   "mimetype": "text/x-python",
   "name": "python",
   "nbconvert_exporter": "python",
   "pygments_lexer": "ipython3",
   "version": "3.7.0"
  },
  "toc": {
   "base_numbering": 1,
   "nav_menu": {},
   "number_sections": true,
   "sideBar": true,
   "skip_h1_title": false,
   "title_cell": "Table of Contents",
   "title_sidebar": "Contents",
   "toc_cell": false,
   "toc_position": {},
   "toc_section_display": true,
   "toc_window_display": true
  },
  "varInspector": {
   "cols": {
    "lenName": 16,
    "lenType": 16,
    "lenVar": 40
   },
   "kernels_config": {
    "python": {
     "delete_cmd_postfix": "",
     "delete_cmd_prefix": "del ",
     "library": "var_list.py",
     "varRefreshCmd": "print(var_dic_list())"
    },
    "r": {
     "delete_cmd_postfix": ") ",
     "delete_cmd_prefix": "rm(",
     "library": "var_list.r",
     "varRefreshCmd": "cat(var_dic_list()) "
    }
   },
   "types_to_exclude": [
    "module",
    "function",
    "builtin_function_or_method",
    "instance",
    "_Feature"
   ],
   "window_display": false
  }
 },
 "nbformat": 4,
 "nbformat_minor": 4
}

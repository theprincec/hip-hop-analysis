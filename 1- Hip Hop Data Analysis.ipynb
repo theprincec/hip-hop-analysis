{
 "cells": [
  {
   "cell_type": "markdown",
   "metadata": {},
   "source": [
    "# Hip Hop Analysis Overview\n",
    "using a hip hop dataset to learn the fundatmentals of Jupyter and data analysis concepts\n",
    "- Data Cleaning\n",
    "- Data Visualization\n",
    "- Exploratory Data Analysis"
   ]
  },
  {
   "cell_type": "markdown",
   "metadata": {},
   "source": [
    "# Environment Setup"
   ]
  },
  {
   "cell_type": "markdown",
   "metadata": {},
   "source": [
    "## Loading Dependencies"
   ]
  },
  {
   "cell_type": "code",
   "execution_count": 1,
   "metadata": {},
   "outputs": [
    {
     "name": "stderr",
     "output_type": "stream",
     "text": [
      "/Users/christiancumberlander/Library/Caches/pypoetry/virtualenvs/hip-hop-analysis-K6qHwPGd-py3.7/lib/python3.7/site-packages/pandas/compat/__init__.py:117: UserWarning: Could not import the lzma module. Your installed Python is incomplete. Attempting to use lzma compression will result in a RuntimeError.\n",
      "  warnings.warn(msg)\n"
     ]
    }
   ],
   "source": [
    "import pandas as pd"
   ]
  },
  {
   "cell_type": "markdown",
   "metadata": {},
   "source": [
    "## Importing Our Hip Hop Dataset\n",
    "The dataset was found on datpiff.com, but we've placed it in our directory structure and will import from there!"
   ]
  },
  {
   "cell_type": "markdown",
   "metadata": {},
   "source": [
    "file_path = './hip_hop_mixtapes - Listens.csv'\n",
    "hip_hop_open = open(file_path)\n",
    "hip_hop_reader = reader(hip_hop_open)\n",
    "hip_hop = list(hip_hop_reader)"
   ]
  },
  {
   "cell_type": "code",
   "execution_count": 2,
   "metadata": {},
   "outputs": [
    {
     "data": {
      "text/html": [
       "<div>\n",
       "<style scoped>\n",
       "    .dataframe tbody tr th:only-of-type {\n",
       "        vertical-align: middle;\n",
       "    }\n",
       "\n",
       "    .dataframe tbody tr th {\n",
       "        vertical-align: top;\n",
       "    }\n",
       "\n",
       "    .dataframe thead th {\n",
       "        text-align: right;\n",
       "    }\n",
       "</style>\n",
       "<table border=\"1\" class=\"dataframe\">\n",
       "  <thead>\n",
       "    <tr style=\"text-align: right;\">\n",
       "      <th></th>\n",
       "      <th>Album Name</th>\n",
       "      <th>Artist</th>\n",
       "      <th>listens</th>\n",
       "      <th>Number of Songs</th>\n",
       "      <th>Shortest Song Duration</th>\n",
       "      <th>Longest Duration</th>\n",
       "      <th>Album Duration</th>\n",
       "      <th>Release Date</th>\n",
       "    </tr>\n",
       "  </thead>\n",
       "  <tbody>\n",
       "    <tr>\n",
       "      <th>0</th>\n",
       "      <td>The Kanan Tape</td>\n",
       "      <td>50 Cent</td>\n",
       "      <td>2,968,652</td>\n",
       "      <td>7</td>\n",
       "      <td>2:43</td>\n",
       "      <td>4:45</td>\n",
       "      <td>0:25:04</td>\n",
       "      <td>12/09/2015</td>\n",
       "    </tr>\n",
       "    <tr>\n",
       "      <th>1</th>\n",
       "      <td>LiveLoveA$Ap</td>\n",
       "      <td>ASAP Rocky</td>\n",
       "      <td>1,701,695</td>\n",
       "      <td>16</td>\n",
       "      <td>2:38</td>\n",
       "      <td>4:52</td>\n",
       "      <td>0:53:41</td>\n",
       "      <td>10/31/2011</td>\n",
       "    </tr>\n",
       "    <tr>\n",
       "      <th>2</th>\n",
       "      <td>Detroit</td>\n",
       "      <td>Big Sean</td>\n",
       "      <td>1,755,528</td>\n",
       "      <td>18</td>\n",
       "      <td>2:19</td>\n",
       "      <td>5:36</td>\n",
       "      <td>1:07:58</td>\n",
       "      <td>09/05/2012</td>\n",
       "    </tr>\n",
       "    <tr>\n",
       "      <th>3</th>\n",
       "      <td>Acid Rap</td>\n",
       "      <td>Chance The Rapper</td>\n",
       "      <td>2,093,978</td>\n",
       "      <td>14</td>\n",
       "      <td>2:19</td>\n",
       "      <td>5:33</td>\n",
       "      <td>0:53:52</td>\n",
       "      <td>04/30/2013</td>\n",
       "    </tr>\n",
       "    <tr>\n",
       "      <th>4</th>\n",
       "      <td>Coloring Book</td>\n",
       "      <td>Chance The Rapper</td>\n",
       "      <td>1,950,537</td>\n",
       "      <td>14</td>\n",
       "      <td>1:41</td>\n",
       "      <td>6:46</td>\n",
       "      <td>0:57:14</td>\n",
       "      <td>05/13/2016</td>\n",
       "    </tr>\n",
       "    <tr>\n",
       "      <th>...</th>\n",
       "      <td>...</td>\n",
       "      <td>...</td>\n",
       "      <td>...</td>\n",
       "      <td>...</td>\n",
       "      <td>...</td>\n",
       "      <td>...</td>\n",
       "      <td>...</td>\n",
       "      <td>...</td>\n",
       "    </tr>\n",
       "    <tr>\n",
       "      <th>56</th>\n",
       "      <td>I'm Up</td>\n",
       "      <td>Young Thug</td>\n",
       "      <td>1,296,629</td>\n",
       "      <td>9</td>\n",
       "      <td>3:45</td>\n",
       "      <td>5:04</td>\n",
       "      <td>0:38:03</td>\n",
       "      <td>02/05/2016</td>\n",
       "    </tr>\n",
       "    <tr>\n",
       "      <th>57</th>\n",
       "      <td>No, My Name Is Jeffery</td>\n",
       "      <td>Young Thug</td>\n",
       "      <td>1,352,267</td>\n",
       "      <td>10</td>\n",
       "      <td>2:45</td>\n",
       "      <td>6:01</td>\n",
       "      <td>0:42:15</td>\n",
       "      <td>08/26/2016</td>\n",
       "    </tr>\n",
       "    <tr>\n",
       "      <th>58</th>\n",
       "      <td>Slime Season</td>\n",
       "      <td>Young Thug</td>\n",
       "      <td>3,214,521</td>\n",
       "      <td>18</td>\n",
       "      <td>2:41</td>\n",
       "      <td>5:33</td>\n",
       "      <td>1:10:06</td>\n",
       "      <td>09/16/2015</td>\n",
       "    </tr>\n",
       "    <tr>\n",
       "      <th>59</th>\n",
       "      <td>Slime Season 2</td>\n",
       "      <td>NaN</td>\n",
       "      <td>2,857,852</td>\n",
       "      <td>22</td>\n",
       "      <td>3:02</td>\n",
       "      <td>4:57</td>\n",
       "      <td>1:27:38</td>\n",
       "      <td>10/31/2015</td>\n",
       "    </tr>\n",
       "    <tr>\n",
       "      <th>60</th>\n",
       "      <td>Slime Season 3</td>\n",
       "      <td>Young Thug</td>\n",
       "      <td>1,841,168</td>\n",
       "      <td>8</td>\n",
       "      <td>2:56</td>\n",
       "      <td>4:38</td>\n",
       "      <td>0:28:20</td>\n",
       "      <td>03/25/2016</td>\n",
       "    </tr>\n",
       "  </tbody>\n",
       "</table>\n",
       "<p>61 rows × 8 columns</p>\n",
       "</div>"
      ],
      "text/plain": [
       "                Album Name             Artist    listens  Number of Songs  \\\n",
       "0           The Kanan Tape            50 Cent  2,968,652                7   \n",
       "1             LiveLoveA$Ap         ASAP Rocky  1,701,695               16   \n",
       "2                  Detroit           Big Sean  1,755,528               18   \n",
       "3                 Acid Rap  Chance The Rapper  2,093,978               14   \n",
       "4            Coloring Book  Chance The Rapper  1,950,537               14   \n",
       "..                     ...                ...        ...              ...   \n",
       "56                  I'm Up         Young Thug  1,296,629                9   \n",
       "57  No, My Name Is Jeffery         Young Thug  1,352,267               10   \n",
       "58            Slime Season         Young Thug  3,214,521               18   \n",
       "59          Slime Season 2                NaN  2,857,852               22   \n",
       "60          Slime Season 3         Young Thug  1,841,168                8   \n",
       "\n",
       "   Shortest Song Duration Longest Duration Album Duration Release Date  \n",
       "0                    2:43             4:45        0:25:04   12/09/2015  \n",
       "1                    2:38             4:52        0:53:41   10/31/2011  \n",
       "2                    2:19             5:36        1:07:58   09/05/2012  \n",
       "3                    2:19             5:33        0:53:52   04/30/2013  \n",
       "4                    1:41             6:46        0:57:14   05/13/2016  \n",
       "..                    ...              ...            ...          ...  \n",
       "56                   3:45             5:04        0:38:03   02/05/2016  \n",
       "57                   2:45             6:01        0:42:15   08/26/2016  \n",
       "58                   2:41             5:33        1:10:06   09/16/2015  \n",
       "59                   3:02             4:57        1:27:38   10/31/2015  \n",
       "60                   2:56             4:38        0:28:20   03/25/2016  \n",
       "\n",
       "[61 rows x 8 columns]"
      ]
     },
     "execution_count": 2,
     "metadata": {},
     "output_type": "execute_result"
    }
   ],
   "source": [
    "file_path = './hip_hop_mixtapes - Listens.csv'\n",
    "\n",
    "hip_hop = pd.read_csv(file_path)\n",
    "hip_hop"
   ]
  },
  {
   "cell_type": "code",
   "execution_count": 11,
   "metadata": {},
   "outputs": [
    {
     "data": {
      "text/plain": [
       "(61, 8)"
      ]
     },
     "metadata": {},
     "output_type": "display_data"
    },
    {
     "data": {
      "text/plain": [
       "Index(['Album Name', 'Artist', 'listens', 'Number of Songs',\n",
       "       'Shortest Song Duration', 'Longest Duration', 'Album Duration',\n",
       "       'Release Date'],\n",
       "      dtype='object')"
      ]
     },
     "metadata": {},
     "output_type": "display_data"
    },
    {
     "name": "stdout",
     "output_type": "stream",
     "text": [
      "<class 'pandas.core.frame.DataFrame'>\n",
      "RangeIndex: 61 entries, 0 to 60\n",
      "Data columns (total 8 columns):\n",
      " #   Column                  Non-Null Count  Dtype \n",
      "---  ------                  --------------  ----- \n",
      " 0   Album Name              61 non-null     object\n",
      " 1   Artist                  59 non-null     object\n",
      " 2   listens                 61 non-null     object\n",
      " 3   Number of Songs         61 non-null     int64 \n",
      " 4   Shortest Song Duration  57 non-null     object\n",
      " 5   Longest Duration        57 non-null     object\n",
      " 6   Album Duration          54 non-null     object\n",
      " 7   Release Date            61 non-null     object\n",
      "dtypes: int64(1), object(7)\n",
      "memory usage: 3.9+ KB\n"
     ]
    },
    {
     "data": {
      "text/plain": [
       "None"
      ]
     },
     "metadata": {},
     "output_type": "display_data"
    },
    {
     "data": {
      "text/html": [
       "<div>\n",
       "<style scoped>\n",
       "    .dataframe tbody tr th:only-of-type {\n",
       "        vertical-align: middle;\n",
       "    }\n",
       "\n",
       "    .dataframe tbody tr th {\n",
       "        vertical-align: top;\n",
       "    }\n",
       "\n",
       "    .dataframe thead th {\n",
       "        text-align: right;\n",
       "    }\n",
       "</style>\n",
       "<table border=\"1\" class=\"dataframe\">\n",
       "  <thead>\n",
       "    <tr style=\"text-align: right;\">\n",
       "      <th></th>\n",
       "      <th>Album Name</th>\n",
       "      <th>Artist</th>\n",
       "      <th>listens</th>\n",
       "      <th>Number of Songs</th>\n",
       "      <th>Shortest Song Duration</th>\n",
       "      <th>Longest Duration</th>\n",
       "      <th>Album Duration</th>\n",
       "      <th>Release Date</th>\n",
       "    </tr>\n",
       "  </thead>\n",
       "  <tbody>\n",
       "    <tr>\n",
       "      <th>0</th>\n",
       "      <td>The Kanan Tape</td>\n",
       "      <td>50 Cent</td>\n",
       "      <td>2,968,652</td>\n",
       "      <td>7</td>\n",
       "      <td>2:43</td>\n",
       "      <td>4:45</td>\n",
       "      <td>0:25:04</td>\n",
       "      <td>12/09/2015</td>\n",
       "    </tr>\n",
       "    <tr>\n",
       "      <th>1</th>\n",
       "      <td>LiveLoveA$Ap</td>\n",
       "      <td>ASAP Rocky</td>\n",
       "      <td>1,701,695</td>\n",
       "      <td>16</td>\n",
       "      <td>2:38</td>\n",
       "      <td>4:52</td>\n",
       "      <td>0:53:41</td>\n",
       "      <td>10/31/2011</td>\n",
       "    </tr>\n",
       "    <tr>\n",
       "      <th>2</th>\n",
       "      <td>Detroit</td>\n",
       "      <td>Big Sean</td>\n",
       "      <td>1,755,528</td>\n",
       "      <td>18</td>\n",
       "      <td>2:19</td>\n",
       "      <td>5:36</td>\n",
       "      <td>1:07:58</td>\n",
       "      <td>09/05/2012</td>\n",
       "    </tr>\n",
       "    <tr>\n",
       "      <th>3</th>\n",
       "      <td>Acid Rap</td>\n",
       "      <td>Chance The Rapper</td>\n",
       "      <td>2,093,978</td>\n",
       "      <td>14</td>\n",
       "      <td>2:19</td>\n",
       "      <td>5:33</td>\n",
       "      <td>0:53:52</td>\n",
       "      <td>04/30/2013</td>\n",
       "    </tr>\n",
       "    <tr>\n",
       "      <th>4</th>\n",
       "      <td>Coloring Book</td>\n",
       "      <td>Chance The Rapper</td>\n",
       "      <td>1,950,537</td>\n",
       "      <td>14</td>\n",
       "      <td>1:41</td>\n",
       "      <td>6:46</td>\n",
       "      <td>0:57:14</td>\n",
       "      <td>05/13/2016</td>\n",
       "    </tr>\n",
       "  </tbody>\n",
       "</table>\n",
       "</div>"
      ],
      "text/plain": [
       "       Album Name             Artist    listens  Number of Songs  \\\n",
       "0  The Kanan Tape            50 Cent  2,968,652                7   \n",
       "1    LiveLoveA$Ap         ASAP Rocky  1,701,695               16   \n",
       "2         Detroit           Big Sean  1,755,528               18   \n",
       "3        Acid Rap  Chance The Rapper  2,093,978               14   \n",
       "4   Coloring Book  Chance The Rapper  1,950,537               14   \n",
       "\n",
       "  Shortest Song Duration Longest Duration Album Duration Release Date  \n",
       "0                   2:43             4:45        0:25:04   12/09/2015  \n",
       "1                   2:38             4:52        0:53:41   10/31/2011  \n",
       "2                   2:19             5:36        1:07:58   09/05/2012  \n",
       "3                   2:19             5:33        0:53:52   04/30/2013  \n",
       "4                   1:41             6:46        0:57:14   05/13/2016  "
      ]
     },
     "metadata": {},
     "output_type": "display_data"
    },
    {
     "data": {
      "text/html": [
       "<div>\n",
       "<style scoped>\n",
       "    .dataframe tbody tr th:only-of-type {\n",
       "        vertical-align: middle;\n",
       "    }\n",
       "\n",
       "    .dataframe tbody tr th {\n",
       "        vertical-align: top;\n",
       "    }\n",
       "\n",
       "    .dataframe thead th {\n",
       "        text-align: right;\n",
       "    }\n",
       "</style>\n",
       "<table border=\"1\" class=\"dataframe\">\n",
       "  <thead>\n",
       "    <tr style=\"text-align: right;\">\n",
       "      <th></th>\n",
       "      <th>Album Name</th>\n",
       "      <th>Artist</th>\n",
       "      <th>listens</th>\n",
       "      <th>Number of Songs</th>\n",
       "      <th>Shortest Song Duration</th>\n",
       "      <th>Longest Duration</th>\n",
       "      <th>Album Duration</th>\n",
       "      <th>Release Date</th>\n",
       "    </tr>\n",
       "  </thead>\n",
       "  <tbody>\n",
       "    <tr>\n",
       "      <th>56</th>\n",
       "      <td>I'm Up</td>\n",
       "      <td>Young Thug</td>\n",
       "      <td>1,296,629</td>\n",
       "      <td>9</td>\n",
       "      <td>3:45</td>\n",
       "      <td>5:04</td>\n",
       "      <td>0:38:03</td>\n",
       "      <td>02/05/2016</td>\n",
       "    </tr>\n",
       "    <tr>\n",
       "      <th>57</th>\n",
       "      <td>No, My Name Is Jeffery</td>\n",
       "      <td>Young Thug</td>\n",
       "      <td>1,352,267</td>\n",
       "      <td>10</td>\n",
       "      <td>2:45</td>\n",
       "      <td>6:01</td>\n",
       "      <td>0:42:15</td>\n",
       "      <td>08/26/2016</td>\n",
       "    </tr>\n",
       "    <tr>\n",
       "      <th>58</th>\n",
       "      <td>Slime Season</td>\n",
       "      <td>Young Thug</td>\n",
       "      <td>3,214,521</td>\n",
       "      <td>18</td>\n",
       "      <td>2:41</td>\n",
       "      <td>5:33</td>\n",
       "      <td>1:10:06</td>\n",
       "      <td>09/16/2015</td>\n",
       "    </tr>\n",
       "    <tr>\n",
       "      <th>59</th>\n",
       "      <td>Slime Season 2</td>\n",
       "      <td>NaN</td>\n",
       "      <td>2,857,852</td>\n",
       "      <td>22</td>\n",
       "      <td>3:02</td>\n",
       "      <td>4:57</td>\n",
       "      <td>1:27:38</td>\n",
       "      <td>10/31/2015</td>\n",
       "    </tr>\n",
       "    <tr>\n",
       "      <th>60</th>\n",
       "      <td>Slime Season 3</td>\n",
       "      <td>Young Thug</td>\n",
       "      <td>1,841,168</td>\n",
       "      <td>8</td>\n",
       "      <td>2:56</td>\n",
       "      <td>4:38</td>\n",
       "      <td>0:28:20</td>\n",
       "      <td>03/25/2016</td>\n",
       "    </tr>\n",
       "  </tbody>\n",
       "</table>\n",
       "</div>"
      ],
      "text/plain": [
       "                Album Name      Artist    listens  Number of Songs  \\\n",
       "56                  I'm Up  Young Thug  1,296,629                9   \n",
       "57  No, My Name Is Jeffery  Young Thug  1,352,267               10   \n",
       "58            Slime Season  Young Thug  3,214,521               18   \n",
       "59          Slime Season 2         NaN  2,857,852               22   \n",
       "60          Slime Season 3  Young Thug  1,841,168                8   \n",
       "\n",
       "   Shortest Song Duration Longest Duration Album Duration Release Date  \n",
       "56                   3:45             5:04        0:38:03   02/05/2016  \n",
       "57                   2:45             6:01        0:42:15   08/26/2016  \n",
       "58                   2:41             5:33        1:10:06   09/16/2015  \n",
       "59                   3:02             4:57        1:27:38   10/31/2015  \n",
       "60                   2:56             4:38        0:28:20   03/25/2016  "
      ]
     },
     "metadata": {},
     "output_type": "display_data"
    }
   ],
   "source": [
    "display(hip_hop.shape)\n",
    "display(hip_hop.columns)\n",
    "display(hip_hop.info())\n",
    "display(hip_hop.head())\n",
    "display(hip_hop.tail())"
   ]
  },
  {
   "cell_type": "markdown",
   "metadata": {},
   "source": [
    "# Data Cleaning\n",
    "As we can see from our quick exploration above, we can note that we will need to clean the following:\n",
    "- Column Headers\n",
    "- Remove commas from listens\n",
    "- Convert types\n",
    "    - listens\n",
    "    - numer of songs"
   ]
  },
  {
   "cell_type": "markdown",
   "metadata": {},
   "source": [
    "## Column Headers\n",
    "Column headers are inconsistent formatting, so we'll convert them all to snake casing"
   ]
  },
  {
   "cell_type": "code",
   "execution_count": 12,
   "metadata": {},
   "outputs": [
    {
     "data": {
      "text/plain": [
       "Index(['Album Name', 'Artist', 'listens', 'Number of Songs',\n",
       "       'Shortest Song Duration', 'Longest Duration', 'Album Duration',\n",
       "       'Release Date'],\n",
       "      dtype='object')"
      ]
     },
     "execution_count": 12,
     "metadata": {},
     "output_type": "execute_result"
    }
   ],
   "source": [
    "hip_hop.columns"
   ]
  },
  {
   "cell_type": "code",
   "execution_count": 13,
   "metadata": {},
   "outputs": [
    {
     "data": {
      "text/plain": [
       "['album_name',\n",
       " 'artist',\n",
       " 'listens',\n",
       " 'number_of_songs',\n",
       " 'shortest_song_duration',\n",
       " 'longest_duration',\n",
       " 'album_duration',\n",
       " 'release_date']"
      ]
     },
     "execution_count": 13,
     "metadata": {},
     "output_type": "execute_result"
    }
   ],
   "source": [
    "col_headers = list(hip_hop.columns)\n",
    "formatted_col_headers = []\n",
    "\n",
    "for col in col_headers:\n",
    "    col = col.replace(\" \", \"_\")\n",
    "    formatted_col_headers.append(col.lower())\n",
    "    \n",
    "formatted_col_headers"
   ]
  },
  {
   "cell_type": "code",
   "execution_count": null,
   "metadata": {},
   "outputs": [],
   "source": []
  }
 ],
 "metadata": {
  "kernelspec": {
   "display_name": "Python 3",
   "language": "python",
   "name": "python3"
  },
  "language_info": {
   "codemirror_mode": {
    "name": "ipython",
    "version": 3
   },
   "file_extension": ".py",
   "mimetype": "text/x-python",
   "name": "python",
   "nbconvert_exporter": "python",
   "pygments_lexer": "ipython3",
   "version": "3.7.0"
  }
 },
 "nbformat": 4,
 "nbformat_minor": 4
}
